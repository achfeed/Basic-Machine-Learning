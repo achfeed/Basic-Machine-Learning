{
 "cells": [
  {
   "cell_type": "code",
   "execution_count": 2,
   "metadata": {},
   "outputs": [
    {
     "name": "stdout",
     "output_type": "stream",
     "text": [
      "C:/Users/achra/Desktop/exemples\\img1.jpg\n",
      "C:/Users/achra/Desktop/exemples\\img2.jpg\n",
      "C:/Users/achra/Desktop/exemples\\img21.pdf\n",
      "C:/Users/achra/Desktop/exemples\\img3.jpg\n",
      "C:/Users/achra/Desktop/exemples\\img31.pdf\n",
      "C:/Users/achra/Desktop/exemples\\img4.jpg\n",
      "C:/Users/achra/Desktop/exemples\\img5.jpg\n",
      "C:/Users/achra/Desktop/exemples\\img5.png\n",
      "C:/Users/achra/Desktop/exemples\\img6.jpg\n",
      "C:/Users/achra/Desktop/exemples\\pdf1.pdf\n"
     ]
    }
   ],
   "source": [
    "import numpy as np # linear algebra\n",
    "import pandas as pd # data processing, CSV file I/O (e.g. pd.read_csv)\n",
    "\n",
    "# Input data files are available in the \"../input/\" directory.\n",
    "# For example, running this (by clicking run or pressing Shift+Enter) will list all files under the input directory\n",
    "\n",
    "import os\n",
    "for dirname, _, filenames in os.walk('C:/Users/achra/Desktop/exemples'):\n",
    "    for filename in filenames:\n",
    "        print(os.path.join(dirname, filename))\n",
    "\n",
    "# Any results you write to the current directory are saved as output.\n",
    "https://www.kaggle.com/baksvijay/ocr-practice"
   ]
  },
  {
   "cell_type": "code",
   "execution_count": null,
   "metadata": {},
   "outputs": [],
   "source": [
    "import pandas as pd\n",
    "import numpy as np\n",
    "import io\n",
    "import glob\n",
    "import PIL\n",
    "from PIL import Image\n",
    "import pytesseract\n",
    "import argparse\n",
    "import cv2\n",
    "import os\n",
    "import matplotlib.pyplot as plt\n",
    "from matplotlib import *\n",
    "from pylab import *\n",
    "import time\n",
    "import ImageFilter"
   ]
  },
  {
   "cell_type": "code",
   "execution_count": 8,
   "metadata": {},
   "outputs": [],
   "source": [
    "src_path = []\n",
    "for path in glob.glob(\"C:/Users/achra/Desktop/exemples/img7.jpg\"):\n",
    "    src_path.append(path)"
   ]
  },
  {
   "cell_type": "code",
   "execution_count": 6,
   "metadata": {},
   "outputs": [],
   "source": [
    "pytesseract.pytesseract.tesseract_cmd = 'C:/Program Files/Tesseract-OCR/tesseract.exe'"
   ]
  },
  {
   "cell_type": "code",
   "execution_count": 9,
   "metadata": {},
   "outputs": [
    {
     "name": "stdout",
     "output_type": "stream",
     "text": [
      "Original_Resolution is :  1280 960\n",
      "Resized_Resolution is :  10032 7032\n"
     ]
    }
   ],
   "source": [
    "address = []\n",
    "items_names = []\n",
    "objects = []\n",
    "\n",
    "\n",
    "def preprocessing():\n",
    "\n",
    "    for items in src_path:\n",
    "\n",
    "    # object-Recognition\n",
    "\n",
    "        im = Image.open(items)\n",
    "#         im = im.convert(mode='L')\n",
    "#         thresh = 200\n",
    "#         fn = lambda x : 255 if x > thresh else 0\n",
    "#         im = im.convert('L').point(fn, mode='1')\n",
    "        width, height = im.size\n",
    "        print(\"Original_Resolution is : \", height, width)\n",
    "\n",
    "    # Resize image\n",
    "\n",
    "        new_width  = 7032\n",
    "        new_height = 10032\n",
    "        img = im.resize((new_width, new_height), Image.ANTIALIAS)\n",
    "        width, height = img.size\n",
    "        print(\"Resized_Resolution is : \", height, width)\n",
    "\n",
    "        #im = img.rotate(-90)\n",
    "        #im = im.crop((1000, 0, 4032, 270))\n",
    "        im = np.asarray(img)\n",
    "        objects.append(im)\n",
    "\n",
    "    # cropping Address only\n",
    "\n",
    "        im = img.rotate(0)\n",
    "        im = np.asarray(im)\n",
    "        address.append(im)\n",
    "\n",
    "    # cropping items_names\n",
    "\n",
    "        left = 0\n",
    "        top = 2000\n",
    "        right = 4032\n",
    "        bottom = 4032\n",
    "\n",
    "        im = img.rotate(-90)\n",
    "        im = im.crop((left, top, right, bottom))\n",
    "        im = np.asarray(im)\n",
    "        items_names.append(im)\n",
    "\n",
    "temp =  preprocessing()"
   ]
  },
  {
   "cell_type": "code",
   "execution_count": null,
   "metadata": {},
   "outputs": [],
   "source": [
    "# Resultat masque\n",
    "for i in range(len(address)):\n",
    "    imshow(address[i]);\n",
    "    show();\n",
    "    text = pytesseract.image_to_string(address[i])\n",
    "    print(text)\n",
    "    time.sleep(0.01)"
   ]
  },
  {
   "cell_type": "code",
   "execution_count": null,
   "metadata": {},
   "outputs": [],
   "source": []
  }
 ],
 "metadata": {
  "kernelspec": {
   "display_name": "Python 3",
   "language": "python",
   "name": "python3"
  },
  "language_info": {
   "codemirror_mode": {
    "name": "ipython",
    "version": 3
   },
   "file_extension": ".py",
   "mimetype": "text/x-python",
   "name": "python",
   "nbconvert_exporter": "python",
   "pygments_lexer": "ipython3",
   "version": "3.7.6"
  }
 },
 "nbformat": 4,
 "nbformat_minor": 4
}
